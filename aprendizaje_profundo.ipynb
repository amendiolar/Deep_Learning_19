{
  "nbformat": 4,
  "nbformat_minor": 0,
  "metadata": {
    "colab": {
      "name": "aprendizaje_profundo.ipynb",
      "version": "0.3.2",
      "provenance": [],
      "collapsed_sections": []
    },
    "kernelspec": {
      "name": "python3",
      "display_name": "Python 3"
    }
  },
  "cells": [
    {
      "cell_type": "markdown",
      "metadata": {
        "id": "WW9M1w8BrMFK",
        "colab_type": "text"
      },
      "source": [
        "# Aprendizaje profundo\n",
        "\n",
        ">## Perceptrón multicapa: clasificación.\n",
        "\n",
        "\n",
        "![picture](https://drive.google.com/uc?id=1Hh01k_26yVpqh7WNdHq4uD17o1E2_oVa)\n",
        "\n"
      ]
    },
    {
      "cell_type": "markdown",
      "metadata": {
        "id": "eCtOnCb3bG2n",
        "colab_type": "text"
      },
      "source": [
        "En este ejemplo se realizará clasificación de imágenes de articulos de moda utilizando un perceptrón multicapa.\n"
      ]
    },
    {
      "cell_type": "markdown",
      "metadata": {
        "id": "S0qidbJeTEYL",
        "colab_type": "text"
      },
      "source": [
        "## Bibliotecas\n",
        "\n",
        "Se importan las bibliotecas que utilizaremos."
      ]
    },
    {
      "cell_type": "code",
      "metadata": {
        "id": "6QXvvSIznEz2",
        "colab_type": "code",
        "colab": {}
      },
      "source": [
        "import numpy as np\n",
        "import tensorflow as tf\n",
        "import os\n",
        "import matplotlib.pyplot as plt\n",
        "\n"
      ],
      "execution_count": 0,
      "outputs": []
    },
    {
      "cell_type": "markdown",
      "metadata": {
        "id": "tNauIO-vTPdx",
        "colab_type": "text"
      },
      "source": [
        "## Conjunto de datos\n",
        "\n",
        "La base de datos que se utilizará es  [Fashion MNIST](https://arxiv.org/pdf/1708.07747.pdf) compuesta de 10 categorías de artículos de moda. Las categorías son las siguientes:\n",
        "\n",
        "| **Etiqueta**| **Categoría** |\n",
        "| ------------- |:-------------:| \n",
        "|0|T-shirt/top|\n",
        "|1|Trouser|\n",
        "|2|Pullover|\n",
        "|3|Dress|\n",
        "|4|Coat|\n",
        "|5|Sandal|\n",
        "|6|Shirt|\n",
        "|7|Sneaker|\n",
        "|8|Bag|\n",
        "|9|Angle boot|\n"
      ]
    },
    {
      "cell_type": "markdown",
      "metadata": {
        "id": "tCZrEpC-bgGm",
        "colab_type": "text"
      },
      "source": [
        "La base consiste con imagenes de 28*28 en escala de grises, 60,0000 imagenes para entrenamiento y 10,000 para prueba. \n",
        "\n",
        "\n",
        "Primero leemos el leemos el conjunto de datos, afortunadamente esto es muy sencillo\n",
        "\n",
        "\n"
      ]
    },
    {
      "cell_type": "code",
      "metadata": {
        "id": "vc2sMV1LV2pm",
        "colab_type": "code",
        "outputId": "7a85fd85-cedf-4a79-98fd-d6db7808d675",
        "colab": {
          "base_uri": "https://localhost:8080/",
          "height": 164
        }
      },
      "source": [
        "data = tf.keras.datasets.fashion_mnist.load_data()\n",
        "(X_trn, Y_trn),(X_tst, Y_tst) = data\n",
        "X_trn = X_trn / 255\n",
        "X_tst = X_tst / 255"
      ],
      "execution_count": 0,
      "outputs": [
        {
          "output_type": "stream",
          "text": [
            "Downloading data from https://storage.googleapis.com/tensorflow/tf-keras-datasets/train-labels-idx1-ubyte.gz\n",
            "32768/29515 [=================================] - 0s 0us/step\n",
            "Downloading data from https://storage.googleapis.com/tensorflow/tf-keras-datasets/train-images-idx3-ubyte.gz\n",
            "26427392/26421880 [==============================] - 0s 0us/step\n",
            "Downloading data from https://storage.googleapis.com/tensorflow/tf-keras-datasets/t10k-labels-idx1-ubyte.gz\n",
            "8192/5148 [===============================================] - 0s 0us/step\n",
            "Downloading data from https://storage.googleapis.com/tensorflow/tf-keras-datasets/t10k-images-idx3-ubyte.gz\n",
            "4423680/4422102 [==============================] - 0s 0us/step\n"
          ],
          "name": "stdout"
        }
      ]
    },
    {
      "cell_type": "markdown",
      "metadata": {
        "id": "Ycv_grt5Y9Lw",
        "colab_type": "text"
      },
      "source": [
        "Para darnos una idea más clara de los datos hay que visualizarlos. Tenemos el conjunto de entrenamiento\n",
        "\n",
        "*   List item\n",
        "*   List item\n",
        "\n"
      ]
    },
    {
      "cell_type": "code",
      "metadata": {
        "id": "YY-Myj5SZLzF",
        "colab_type": "code",
        "outputId": "ee0d3b6c-418e-42df-e893-6d45b76db258",
        "colab": {
          "base_uri": "https://localhost:8080/",
          "height": 133
        }
      },
      "source": [
        "\n",
        "plt.subplot(331)\n",
        "plt.imshow(X_trn[5], cmap='Greys')\n",
        "plt.subplot(332)\n",
        "plt.imshow(X_trn[10], cmap='Greys')\n",
        "plt.subplot(333)\n",
        "plt.imshow(X_trn[20], cmap='Greys')\n"
      ],
      "execution_count": 0,
      "outputs": [
        {
          "output_type": "execute_result",
          "data": {
            "text/plain": [
              "<matplotlib.image.AxesImage at 0x7f1526c85390>"
            ]
          },
          "metadata": {
            "tags": []
          },
          "execution_count": 12
        },
        {
          "output_type": "display_data",
          "data": {
            "image/png": "[encoded data removed]",
            "text/plain": [
              "<Figure size 432x288 with 3 Axes>"
            ]
          },
          "metadata": {
            "tags": []
          }
        }
      ]
    },
    {
      "cell_type": "markdown",
      "metadata": {
        "id": "4LCzMYCHr3Ry",
        "colab_type": "text"
      },
      "source": [
        " Tenemos el conjunto de prueba\n"
      ]
    },
    {
      "cell_type": "code",
      "metadata": {
        "id": "isdGhIw1sUin",
        "colab_type": "code",
        "outputId": "8b882c1e-7c3f-4a77-ef2a-9c692ed1a12e",
        "colab": {
          "base_uri": "https://localhost:8080/",
          "height": 133
        }
      },
      "source": [
        "plt.subplot(334)\n",
        "plt.imshow(X_tst[5], cmap='Greys')\n",
        "plt.subplot(335)\n",
        "plt.imshow(X_tst[10], cmap='Greys')\n",
        "plt.subplot(336)\n",
        "plt.imshow(X_tst[20], cmap='Greys')\n"
      ],
      "execution_count": 0,
      "outputs": [
        {
          "output_type": "execute_result",
          "data": {
            "text/plain": [
              "<matplotlib.image.AxesImage at 0x7f15243eebe0>"
            ]
          },
          "metadata": {
            "tags": []
          },
          "execution_count": 13
        },
        {
          "output_type": "display_data",
          "data": {
            "image/png": "[encoded data removed]",
            "text/plain": [
              "<Figure size 432x288 with 3 Axes>"
            ]
          },
          "metadata": {
            "tags": []
          }
        }
      ]
    },
    {
      "cell_type": "markdown",
      "metadata": {
        "id": "Apxac1UCWTnX",
        "colab_type": "text"
      },
      "source": [
        "## Parámetros\n",
        "\n",
        "\n",
        "Se determina el número de neuronas en cada una de las capas de la red . En nuestro caso la red es muy sencilla y consta de tres capas, la capa de entrada (LI), la capa oculta (L1) y la capa de salida (L0)."
      ]
    },
    {
      "cell_type": "code",
      "metadata": {
        "id": "abHKAHw4WtPn",
        "colab_type": "code",
        "colab": {}
      },
      "source": [
        "LI = 784 \n",
        "L1 = 128\n",
        "LO = 10\n",
        "\n",
        "\n"
      ],
      "execution_count": 0,
      "outputs": []
    },
    {
      "cell_type": "markdown",
      "metadata": {
        "id": "OLV_YvvaXAZJ",
        "colab_type": "text"
      },
      "source": [
        "## Entrada\n"
      ]
    },
    {
      "cell_type": "code",
      "metadata": {
        "id": "CVQQzFv9LeTt",
        "colab_type": "code",
        "colab": {}
      },
      "source": [
        "def batch(X, Y, n):\n",
        "    \"\"\"Yield successive n-sized batch from X, Y.\"\"\"\n",
        "    for i in range(0, len(X), n):\n",
        "        yield X[i:i+n], Y[i:i+n]\n",
        "\n",
        "\n",
        "def rand_batch(X, Y, n):\n",
        "  \"\"\"Return random n-sized batch from X, Y.\"\"\"\n",
        "  idx = np.random.choice(len(X), n, replace=False)\n",
        "  return X[idx], Y[idx]\n",
        "\n",
        "\n",
        "msg = \"I{:4d} loss trn: {:5.3f}, loss tst: {:5.3f}\"\n"
      ],
      "execution_count": 0,
      "outputs": []
    },
    {
      "cell_type": "markdown",
      "metadata": {
        "id": "pImO9KYn01sk",
        "colab_type": "text"
      },
      "source": [
        "Se define la entrada de la red\n"
      ]
    },
    {
      "cell_type": "code",
      "metadata": {
        "id": "3EUiHr9GoFpj",
        "colab_type": "code",
        "outputId": "3584d952-3033-4d3a-df74-fe6e51d99648",
        "colab": {
          "base_uri": "https://localhost:8080/",
          "height": 1000
        }
      },
      "source": [
        "# entrada\n",
        "X = tf.placeholder(tf.float32, [None, 28, 28], name='X')\n",
        "Y_true = tf.placeholder(tf.int32, [None], name='Y_true')\n",
        "XR = tf.reshape(X, [-1, LI])\n",
        "Y_true_1h = tf.one_hot(Y_true, 10, dtype=tf.float32)\n",
        "\n",
        "#capas\n",
        "Y1 = tf.layers.dense(XR, L1, activation=tf.nn.relu)\n",
        "L = tf.layers.dense(Y1, LO)\n",
        "Y0 = tf.nn.softmax(L)\n",
        "\n",
        "\n",
        "#salida\n",
        "Y_pred = tf.cast(tf.argmax(Y0, 1), dtype=tf.int32)\n",
        "Y_pred_1h = tf.one_hot(Y_pred, 10, dtype=tf.float32)\n",
        "\n",
        "\n",
        "#error\n",
        "loss = tf.nn.softmax_cross_entropy_with_logits_v2(labels=Y_true_1h, logits=L)\n",
        "loss = tf.reduce_mean(loss, name='loss')\n",
        "\n",
        "\n",
        "#optimizador\n",
        "grad = tf.train.GradientDescentOptimizer(learning_rate=0.1)\n",
        "opt = grad.minimize(loss)\n",
        "\n",
        "\n",
        "\n",
        "with tf.Session() as sess:\n",
        "      sess.run(tf.global_variables_initializer())\n",
        "\n",
        "      for i, (X_t, Y_true_t) in enumerate(batch(X_trn, Y_trn, 64)):\n",
        "        \n",
        "        if not i % 10:\n",
        "          X_evl, Y_evl = rand_batch(X_trn, Y_trn, 32)\n",
        "          feed = {X: X_evl, Y_true: Y_evl}\n",
        "          fetches = loss\n",
        "          err_trn = sess.run(fetches, feed)\n",
        "   \n",
        "          \n",
        "          X_evl, Y_evl = rand_batch(X_tst, Y_tst, 32)\n",
        "          feed = {X: X_evl, Y_true: Y_evl}\n",
        "          fetches = loss\n",
        "          err_tst = sess.run(fetches, feed)\n",
        "          print(msg.format(i, err_trn, err_tst))\n",
        "\n",
        "        \n",
        "        feed = {X: X_t, Y_true: Y_true_t}\n",
        "        fetches = opt\n",
        "        sess.run(fetches, feed)\n"
      ],
      "execution_count": 0,
      "outputs": [
        {
          "output_type": "stream",
          "text": [
            "W0814 21:59:37.340572 139729798113152 deprecation.py:323] From <ipython-input-16-506d15109172>:7: dense (from tensorflow.python.layers.core) is deprecated and will be removed in a future version.\n",
            "Instructions for updating:\n",
            "Use keras.layers.dense instead.\n",
            "W0814 21:59:37.344944 139729798113152 deprecation.py:506] From /usr/local/lib/python3.6/dist-packages/tensorflow/python/ops/init_ops.py:1251: calling VarianceScaling.__init__ (from tensorflow.python.ops.init_ops) with dtype is deprecated and will be removed in a future version.\n",
            "Instructions for updating:\n",
            "Call initializer instance with the dtype argument instead of passing it to the constructor\n"
          ],
          "name": "stderr"
        },
        {
          "output_type": "stream",
          "text": [
            "I   0 loss trn: 2.539, loss tst: 2.388\n",
            "I  10 loss trn: 1.356, loss tst: 1.261\n",
            "I  20 loss trn: 1.212, loss tst: 0.999\n",
            "I  30 loss trn: 1.006, loss tst: 1.115\n",
            "I  40 loss trn: 0.927, loss tst: 0.915\n",
            "I  50 loss trn: 1.120, loss tst: 0.807\n",
            "I  60 loss trn: 0.941, loss tst: 0.665\n",
            "I  70 loss trn: 0.704, loss tst: 0.860\n",
            "I  80 loss trn: 1.302, loss tst: 1.208\n",
            "I  90 loss trn: 0.570, loss tst: 0.936\n",
            "I 100 loss trn: 0.554, loss tst: 0.768\n",
            "I 110 loss trn: 0.999, loss tst: 0.635\n",
            "I 120 loss trn: 0.777, loss tst: 0.706\n",
            "I 130 loss trn: 0.734, loss tst: 0.634\n",
            "I 140 loss trn: 0.695, loss tst: 0.598\n",
            "I 150 loss trn: 0.466, loss tst: 0.659\n",
            "I 160 loss trn: 1.033, loss tst: 0.487\n",
            "I 170 loss trn: 0.706, loss tst: 0.444\n",
            "I 180 loss trn: 0.543, loss tst: 0.882\n",
            "I 190 loss trn: 1.059, loss tst: 0.619\n",
            "I 200 loss trn: 0.726, loss tst: 0.613\n",
            "I 210 loss trn: 0.797, loss tst: 0.643\n",
            "I 220 loss trn: 0.394, loss tst: 1.029\n",
            "I 230 loss trn: 0.531, loss tst: 0.339\n",
            "I 240 loss trn: 0.729, loss tst: 0.467\n",
            "I 250 loss trn: 0.691, loss tst: 1.134\n",
            "I 260 loss trn: 0.760, loss tst: 0.405\n",
            "I 270 loss trn: 0.544, loss tst: 0.647\n",
            "I 280 loss trn: 0.430, loss tst: 0.590\n",
            "I 290 loss trn: 0.674, loss tst: 0.815\n",
            "I 300 loss trn: 0.737, loss tst: 0.372\n",
            "I 310 loss trn: 0.815, loss tst: 0.449\n",
            "I 320 loss trn: 0.498, loss tst: 0.439\n",
            "I 330 loss trn: 0.663, loss tst: 0.400\n",
            "I 340 loss trn: 0.455, loss tst: 0.682\n",
            "I 350 loss trn: 0.613, loss tst: 0.579\n",
            "I 360 loss trn: 0.368, loss tst: 0.428\n",
            "I 370 loss trn: 1.007, loss tst: 0.713\n",
            "I 380 loss trn: 0.364, loss tst: 0.377\n",
            "I 390 loss trn: 0.445, loss tst: 0.414\n",
            "I 400 loss trn: 0.620, loss tst: 0.555\n",
            "I 410 loss trn: 0.450, loss tst: 0.603\n",
            "I 420 loss trn: 0.682, loss tst: 0.560\n",
            "I 430 loss trn: 0.503, loss tst: 0.443\n",
            "I 440 loss trn: 0.354, loss tst: 0.721\n",
            "I 450 loss trn: 0.454, loss tst: 0.497\n",
            "I 460 loss trn: 0.505, loss tst: 0.505\n",
            "I 470 loss trn: 0.382, loss tst: 0.313\n",
            "I 480 loss trn: 0.369, loss tst: 0.504\n",
            "I 490 loss trn: 0.551, loss tst: 0.415\n",
            "I 500 loss trn: 0.983, loss tst: 0.361\n",
            "I 510 loss trn: 0.941, loss tst: 0.671\n",
            "I 520 loss trn: 0.560, loss tst: 0.612\n",
            "I 530 loss trn: 0.806, loss tst: 0.564\n",
            "I 540 loss trn: 0.652, loss tst: 0.570\n",
            "I 550 loss trn: 0.783, loss tst: 0.408\n",
            "I 560 loss trn: 0.328, loss tst: 0.781\n",
            "I 570 loss trn: 0.495, loss tst: 0.367\n",
            "I 580 loss trn: 0.665, loss tst: 0.601\n",
            "I 590 loss trn: 0.840, loss tst: 0.291\n",
            "I 600 loss trn: 0.302, loss tst: 0.418\n",
            "I 610 loss trn: 0.455, loss tst: 0.332\n",
            "I 620 loss trn: 0.534, loss tst: 0.947\n",
            "I 630 loss trn: 0.437, loss tst: 0.837\n",
            "I 640 loss trn: 0.273, loss tst: 0.658\n",
            "I 650 loss trn: 0.397, loss tst: 0.496\n",
            "I 660 loss trn: 0.548, loss tst: 0.377\n",
            "I 670 loss trn: 0.452, loss tst: 0.633\n",
            "I 680 loss trn: 0.377, loss tst: 0.335\n",
            "I 690 loss trn: 0.357, loss tst: 0.603\n",
            "I 700 loss trn: 0.440, loss tst: 0.608\n",
            "I 710 loss trn: 0.245, loss tst: 0.272\n",
            "I 720 loss trn: 0.337, loss tst: 0.423\n",
            "I 730 loss trn: 0.689, loss tst: 0.350\n",
            "I 740 loss trn: 0.431, loss tst: 0.545\n",
            "I 750 loss trn: 0.326, loss tst: 0.622\n",
            "I 760 loss trn: 0.486, loss tst: 0.429\n",
            "I 770 loss trn: 0.263, loss tst: 0.507\n",
            "I 780 loss trn: 0.216, loss tst: 0.470\n",
            "I 790 loss trn: 0.325, loss tst: 0.469\n",
            "I 800 loss trn: 0.418, loss tst: 0.737\n",
            "I 810 loss trn: 0.527, loss tst: 0.252\n",
            "I 820 loss trn: 0.559, loss tst: 0.575\n",
            "I 830 loss trn: 0.404, loss tst: 0.350\n",
            "I 840 loss trn: 0.402, loss tst: 0.501\n",
            "I 850 loss trn: 0.522, loss tst: 0.340\n",
            "I 860 loss trn: 0.301, loss tst: 0.550\n",
            "I 870 loss trn: 0.300, loss tst: 0.506\n",
            "I 880 loss trn: 0.400, loss tst: 0.457\n",
            "I 890 loss trn: 0.493, loss tst: 0.439\n",
            "I 900 loss trn: 0.502, loss tst: 0.470\n",
            "I 910 loss trn: 0.308, loss tst: 0.412\n",
            "I 920 loss trn: 0.256, loss tst: 0.754\n",
            "I 930 loss trn: 0.223, loss tst: 0.277\n"
          ],
          "name": "stdout"
        }
      ]
    },
    {
      "cell_type": "markdown",
      "metadata": {
        "id": "XEgCiG7IDdSR",
        "colab_type": "text"
      },
      "source": [
        ">## Red neuronal convolucional: clasificación."
      ]
    },
    {
      "cell_type": "code",
      "metadata": {
        "id": "DOsjCTgRKjra",
        "colab_type": "code",
        "colab": {}
      },
      "source": [
        "data = tf.keras.datasets.mnist.load_data()\n",
        "  \n",
        "(X_trn, Y_trn),(X_tst, Y_tst) = data\n",
        "X_trn = X_trn / 255\n",
        "X_tst = X_tst / 255\n",
        " "
      ],
      "execution_count": 0,
      "outputs": []
    },
    {
      "cell_type": "code",
      "metadata": {
        "id": "TAh7-JWNKkb-",
        "colab_type": "code",
        "outputId": "e5697ebf-f591-44ae-8e17-a50f6f68fa71",
        "colab": {
          "base_uri": "https://localhost:8080/",
          "height": 133
        }
      },
      "source": [
        "\n",
        "plt.subplot(331)\n",
        "plt.imshow(X_trn[5], cmap='Greys')\n",
        "plt.subplot(332)\n",
        "plt.imshow(X_trn[10], cmap='Greys')\n",
        "plt.subplot(333)\n",
        "plt.imshow(X_trn[20], cmap='Greys')\n"
      ],
      "execution_count": 0,
      "outputs": [
        {
          "output_type": "execute_result",
          "data": {
            "text/plain": [
              "<matplotlib.image.AxesImage at 0x7f151f168780>"
            ]
          },
          "metadata": {
            "tags": []
          },
          "execution_count": 29
        },
        {
          "output_type": "display_data",
          "data": {
            "image/png": "[encoded data removed]",
            "text/plain": [
              "<Figure size 432x288 with 3 Axes>"
            ]
          },
          "metadata": {
            "tags": []
          }
        }
      ]
    },
    {
      "cell_type": "code",
      "metadata": {
        "id": "qakVBuZUM-Eo",
        "colab_type": "code",
        "outputId": "4324a9ae-fee9-4cf1-b314-f08f8cf7cee9",
        "colab": {
          "base_uri": "https://localhost:8080/",
          "height": 1000
        }
      },
      "source": [
        "\n",
        "X = tf.placeholder(tf.float32, [None, 28, 28], name='X')\n",
        "Y_true = tf.placeholder(tf.int32, [None], name='Y_true')\n",
        "XR = tf.reshape(X, [-1, 28, 28, 1])\n",
        "Y_true_1h = tf.one_hot(Y_true, 10, dtype=tf.float32)\n",
        "\n",
        "\n",
        "conv1 = tf.layers.conv2d(\n",
        "      inputs= XR,\n",
        "      filters=32,\n",
        "      kernel_size=[5, 5],\n",
        "      padding=\"same\",\n",
        "      activation=tf.nn.relu)\n",
        "\n",
        "\n",
        "pool1 = tf.layers.max_pooling2d(inputs=conv1, pool_size=[2, 2], strides=2)\n",
        "\n",
        "conv2 = tf.layers.conv2d(\n",
        "      inputs=pool1,\n",
        "      filters=64,\n",
        "      kernel_size=[5, 5],\n",
        "      padding=\"same\",\n",
        "      activation=tf.nn.relu)\n",
        "pool2 = tf.layers.max_pooling2d(inputs=conv2, pool_size=[2, 2], strides=2)\n",
        "\n",
        "\n",
        "pool2_flat = tf.reshape(pool2, [-1, 7 * 7 * 64])\n",
        "dense = tf.layers.dense(inputs=pool2_flat, units=1024, activation=tf.nn.relu)\n",
        "L = tf.layers.dense(inputs=pool2_flat, units=10)\n",
        "S = tf.nn.softmax(L)\n",
        "\n",
        "Y_pred = tf.cast(tf.argmax(S, 1), dtype=tf.int32)\n",
        "Y_pred_1h = tf.one_hot(Y_pred, 10, dtype=tf.float32)\n",
        "\n",
        "\n",
        "#error\n",
        "\n",
        "loss = tf.nn.softmax_cross_entropy_with_logits_v2(\n",
        "        labels=Y_true_1h, logits=L)\n",
        "loss = tf.reduce_mean(loss, name='loss')\n",
        "\n",
        "\n",
        "#optimizador\n",
        "grad = tf.train.GradientDescentOptimizer(learning_rate=0.1)\n",
        "opt = grad.minimize(loss)\n",
        "\n",
        "\n",
        "with tf.Session() as sess:\n",
        "      sess.run(tf.global_variables_initializer())\n",
        "\n",
        "      for i, (X_t, Y_true_t) in enumerate(batch(X_trn, Y_trn, 64)):\n",
        "        \n",
        "        if not i % 10:\n",
        "          X_evl, Y_evl = rand_batch(X_trn, Y_trn, 32)\n",
        "          feed = {X: X_evl, Y_true: Y_evl}\n",
        "          fetches = loss\n",
        "          err_trn = sess.run(fetches, feed)\n",
        "   \n",
        "          \n",
        "          X_evl, Y_evl = rand_batch(X_tst, Y_tst, 32)\n",
        "          feed = {X: X_evl, Y_true: Y_evl}\n",
        "          fetches = loss\n",
        "          err_tst = sess.run(fetches, feed)\n",
        "          print(msg.format(i, err_trn, err_tst))\n",
        "\n",
        "        \n",
        "        feed = {X: X_t, Y_true: Y_true_t}\n",
        "        fetches = opt\n",
        "        sess.run(fetches, feed)\n"
      ],
      "execution_count": 0,
      "outputs": [
        {
          "output_type": "stream",
          "text": [
            "I   0 loss trn: 2.296, loss tst: 2.297\n",
            "I  10 loss trn: 1.952, loss tst: 2.043\n",
            "I  20 loss trn: 1.866, loss tst: 1.829\n",
            "I  30 loss trn: 1.176, loss tst: 1.276\n",
            "I  40 loss trn: 0.759, loss tst: 1.061\n",
            "I  50 loss trn: 0.830, loss tst: 0.843\n",
            "I  60 loss trn: 0.750, loss tst: 0.200\n",
            "I  70 loss trn: 0.147, loss tst: 0.315\n",
            "I  80 loss trn: 0.257, loss tst: 0.290\n",
            "I  90 loss trn: 0.343, loss tst: 0.188\n",
            "I 100 loss trn: 0.889, loss tst: 0.247\n",
            "I 110 loss trn: 0.232, loss tst: 0.518\n",
            "I 120 loss trn: 0.202, loss tst: 0.330\n",
            "I 130 loss trn: 0.369, loss tst: 0.192\n",
            "I 140 loss trn: 0.144, loss tst: 0.273\n",
            "I 150 loss trn: 0.209, loss tst: 0.134\n",
            "I 160 loss trn: 0.133, loss tst: 0.586\n",
            "I 170 loss trn: 0.142, loss tst: 0.102\n",
            "I 180 loss trn: 0.165, loss tst: 0.181\n",
            "I 190 loss trn: 0.084, loss tst: 0.146\n",
            "I 200 loss trn: 0.063, loss tst: 0.099\n",
            "I 210 loss trn: 0.179, loss tst: 0.075\n",
            "I 220 loss trn: 0.087, loss tst: 0.065\n",
            "I 230 loss trn: 0.054, loss tst: 0.155\n",
            "I 240 loss trn: 0.108, loss tst: 0.083\n",
            "I 250 loss trn: 0.093, loss tst: 0.101\n",
            "I 260 loss trn: 0.032, loss tst: 0.129\n",
            "I 270 loss trn: 0.061, loss tst: 0.034\n",
            "I 280 loss trn: 0.076, loss tst: 0.038\n",
            "I 290 loss trn: 0.062, loss tst: 0.109\n",
            "I 300 loss trn: 0.305, loss tst: 0.065\n",
            "I 310 loss trn: 0.147, loss tst: 0.270\n",
            "I 320 loss trn: 0.154, loss tst: 0.048\n",
            "I 330 loss trn: 0.266, loss tst: 0.219\n",
            "I 340 loss trn: 0.297, loss tst: 0.017\n",
            "I 350 loss trn: 0.063, loss tst: 0.089\n",
            "I 360 loss trn: 0.017, loss tst: 0.039\n",
            "I 370 loss trn: 0.160, loss tst: 0.047\n",
            "I 380 loss trn: 0.069, loss tst: 0.294\n",
            "I 390 loss trn: 0.109, loss tst: 0.018\n",
            "I 400 loss trn: 0.231, loss tst: 0.027\n",
            "I 410 loss trn: 0.257, loss tst: 0.041\n",
            "I 420 loss trn: 0.041, loss tst: 0.030\n",
            "I 430 loss trn: 0.147, loss tst: 0.134\n",
            "I 440 loss trn: 0.135, loss tst: 0.030\n",
            "I 450 loss trn: 0.127, loss tst: 0.066\n",
            "I 460 loss trn: 0.161, loss tst: 0.475\n",
            "I 470 loss trn: 0.161, loss tst: 0.165\n",
            "I 480 loss trn: 0.324, loss tst: 0.027\n",
            "I 490 loss trn: 0.176, loss tst: 0.072\n",
            "I 500 loss trn: 0.144, loss tst: 0.067\n",
            "I 510 loss trn: 0.065, loss tst: 0.035\n",
            "I 520 loss trn: 0.142, loss tst: 0.109\n",
            "I 530 loss trn: 0.017, loss tst: 0.381\n",
            "I 540 loss trn: 0.116, loss tst: 0.064\n",
            "I 550 loss trn: 0.089, loss tst: 0.075\n",
            "I 560 loss trn: 0.074, loss tst: 0.120\n",
            "I 570 loss trn: 0.123, loss tst: 0.149\n",
            "I 580 loss trn: 0.305, loss tst: 0.046\n",
            "I 590 loss trn: 0.074, loss tst: 0.065\n",
            "I 600 loss trn: 0.048, loss tst: 0.154\n",
            "I 610 loss trn: 0.032, loss tst: 0.014\n",
            "I 620 loss trn: 0.080, loss tst: 0.047\n",
            "I 630 loss trn: 0.054, loss tst: 0.207\n",
            "I 640 loss trn: 0.038, loss tst: 0.155\n",
            "I 650 loss trn: 0.095, loss tst: 0.018\n",
            "I 660 loss trn: 0.050, loss tst: 0.205\n",
            "I 670 loss trn: 0.082, loss tst: 0.073\n",
            "I 680 loss trn: 0.092, loss tst: 0.052\n",
            "I 690 loss trn: 0.040, loss tst: 0.002\n",
            "I 700 loss trn: 0.045, loss tst: 0.015\n",
            "I 710 loss trn: 0.037, loss tst: 0.133\n",
            "I 720 loss trn: 0.193, loss tst: 0.018\n",
            "I 730 loss trn: 0.036, loss tst: 0.029\n",
            "I 740 loss trn: 0.204, loss tst: 0.068\n",
            "I 750 loss trn: 0.044, loss tst: 0.166\n",
            "I 760 loss trn: 0.030, loss tst: 0.018\n",
            "I 770 loss trn: 0.225, loss tst: 0.037\n",
            "I 780 loss trn: 0.024, loss tst: 0.262\n",
            "I 790 loss trn: 0.115, loss tst: 0.082\n",
            "I 800 loss trn: 0.014, loss tst: 0.020\n",
            "I 810 loss trn: 0.220, loss tst: 0.146\n",
            "I 820 loss trn: 0.039, loss tst: 0.232\n",
            "I 830 loss trn: 0.043, loss tst: 0.085\n",
            "I 840 loss trn: 0.048, loss tst: 0.018\n",
            "I 850 loss trn: 0.021, loss tst: 0.017\n",
            "I 860 loss trn: 0.193, loss tst: 0.085\n",
            "I 870 loss trn: 0.110, loss tst: 0.091\n",
            "I 880 loss trn: 0.241, loss tst: 0.043\n",
            "I 890 loss trn: 0.004, loss tst: 0.170\n",
            "I 900 loss trn: 0.076, loss tst: 0.072\n",
            "I 910 loss trn: 0.007, loss tst: 0.136\n",
            "I 920 loss trn: 0.155, loss tst: 0.285\n",
            "I 930 loss trn: 0.015, loss tst: 0.077\n"
          ],
          "name": "stdout"
        }
      ]
    }
  ]
}